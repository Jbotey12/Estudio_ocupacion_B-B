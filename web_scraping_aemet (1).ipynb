{
  "cells": [
    {
      "cell_type": "markdown",
      "metadata": {
        "id": "aA8bEl4YCin6"
      },
      "source": [
        "**WEB SCRAPING AEMET**"
      ]
    },
    {
      "cell_type": "markdown",
      "metadata": {
        "id": "sugeDmqqlhYE"
      },
      "source": [
        "El objetivo de este código es recolectar datos meteorológicos del servicio de AEMET para el municipio de Vilassar de Mar desde marzo de 2021 hasta 2025.\n",
        "\n",
        "Estos datos incluyen información sobre temperaturas máximas, mínimas, medias y precipitaciones por hora de cada dia. Con este código se obtiene mediante técnicas de web scraping esta información y se calcula la temperatura media diaria y la precipitación diaria.\n",
        "\n",
        "El motivo de esta recolección es incorporar la variable climática al estudio de predicción de ocupación de un B&B, ya que las condiciones meteorológicas pueden influir en la demanda turística y, por tanto, en la ocupación del establecimiento.\n",
        "\n",
        "Este módulo forma parte de un proyecto más amplio orientado a aplicar inteligencia artificial en la predicción de ocupación hotelera."
      ]
    },
    {
      "cell_type": "markdown",
      "metadata": {
        "id": "Yz4qE_7v8fbr"
      },
      "source": [
        "Debido a que el servidor tiende a bloquear el acceso a la URL cuando detecta actividad de scraping, se decidió realizar la extracción de datos en bloques de 60 días, utilizando además tiempos de espera aleatorios tanto entre días como entre bloques para reducir la probabilidad de detección."
      ]
    },
    {
      "cell_type": "code",
      "execution_count": null,
      "metadata": {
        "colab": {
          "background_save": true,
          "base_uri": "https://localhost:8080/",
          "height": 1000,
          "referenced_widgets": [
            "e9508682012849b0a7bfd4021bffeff8",
            "908f0bb11a224fe08a9e02269d847d55",
            "91268c81060943b886a03a4318d708ed",
            "1a46b7a4ac3d4bab83534079f2376fa9",
            "38d7a5a5eb474afab9feb2389d729975",
            "70bce6b2607247d2ba6a17017814ac38",
            "425c4194204b4694bb7d70175df40713",
            "6dd8eaf0464046b3aa2f964658291a00",
            "903841ddefb44621a4a143fdcd621e30",
            "90f14870f7ae4af1814b39e5079a3003",
            "ca3f901244824d35b187038820f1f626",
            "42d2df8420cb4dbc9407694d8666cd0f",
            "7cafe98cec474b55ad69e28b0da9c503",
            "967ef6244d514c0db6c0fb2a4647269c",
            "fb2581a2a7394945bad17bb9ad81db40",
            "260fcece2db74cfb99f0a11b7bd84a93",
            "b8adc15cfedc408db07ee128f4515add",
            "052b6abd474d4bb2aef3a21ef70ef809",
            "030e914ca38f49e69d60742ca6df12de",
            "63f672fa6a1944b5aa76267edb57104c",
            "0e2d094516be452e925b821d52233e77",
            "45ea1c74e86e4eddb366c9f0898ee618",
            "3a1b6a11a8824c868f74674d8763973a",
            "7b02463e57c34a6ca02d5b1d79692c3c",
            "c54ecbffa2014c6b9436aafe1e1409af",
            "a2daa478e2cf4b8e86d6acba4bfd1d0e",
            "2404720c75f546de9531c4fa79fb307e",
            "94f9b7a5744b46cb8a475089a0186b32",
            "724c9efb62e746f7943a8b271305a66f",
            "a05f30bcc56643cb8ff82ad21ecbe8b3",
            "6b531ffec35947a4b13360c9c2650b91",
            "1c391a6e21cb437b9a22f2efe37a8d51",
            "72a1a4134cb843c9b03a20615f618db8",
            "8ff8b209b3d1425f8bb585027a210e0e",
            "eb19d08518df4c5cbec576e14ad5e45f",
            "90a17c06ce5c45bfa94a7334e57b7fc4",
            "f237741a8fd14e98b5a77dc1c03e02d3",
            "a32bfec495d740209b3ebc7f0f65b6bf",
            "763466ca6e6b4a1c9b8d4b3f6a0139e8",
            "8dd8d889ed3c48728410e42362279c42",
            "508e585ad3a949088c305aeaac750c30",
            "d9328dbce6e84288b0298db2783b29be",
            "dd516bc3b86348dfbf9b6a5ec4ea9dc9",
            "ff2f7c849cff4680a0b6a6708a06f3e1",
            "e1f1d04463404d8f9d8d480ff1c61d8e",
            "457e741ff2834da8a2ec090c79d4dc28",
            "7850a8bb92f146b4a6196d59fd0c8f04",
            "0e8796e92a474f51998b7d1490cb7c72",
            "a1ecdd5759b14354a642f7acfaa7a1d8",
            "642d182886c7462eb0e8dd32adaa9540",
            "6f08589bb72049d3accfaf0e019c64fc",
            "5a0e6d2122c548f6b0eae291fb15b236",
            "1d0663c7153e41f5b1f1ff3c9ad04fd1",
            "2ace57f768b64f0197a34fcf1bbfedff",
            "13dc363d8db0424abd16047242408b1e",
            "5768265fd15c400490ceaec21a27c5ac",
            "e0df6889204e4e42bd6f0588b8da642b",
            "837e91c1dfa24401ae80d57a9370e823",
            "a596ec142a9947c198093cf5c762ab37",
            "525f1b77558f496badd5f81a5a460d66",
            "6622fa4929294591bb554fd55f54b463",
            "eba50040054f4cb19d6f9e6cd403d88d",
            "cffbf7b88f1f47b38a661d61ce6fa0ae",
            "2e74cd3267b74a3e83cedba8665fa991",
            "7378c8ba6f9a475c9391543c481bf352",
            "b2f89f9f6fc34140b4a2b51d8c73051d",
            "e3b4519e4c9f4b6bac4326e25601019a",
            "79448e4a7fb04b90836cd2a2cb078313",
            "295f5f3006fd456ab7be980fee2ce61c",
            "74a4e9ad15f9473794dfc51e9d8b9342",
            "2ed5e77a56bd473f9ba75a6f4c63b879",
            "1dd587de2c1b41c09cc59ae29d178288",
            "74c6d5d7a45b41499a048067ba57ce00",
            "db7cabdf49bb4dbbb60173755c42a86d",
            "3cde13a68c104d40b308d46773b0a2b7",
            "5de8440d5fd942e5bc29ca4b857e101e",
            "a18ef67de4644ec8a5e1502349fe9da7",
            "7281ccf0e8bc4251a15f12217ab68a93",
            "576390efb11846548a4ca2a89d26290d",
            "b1ca0fa2291849b0a90b80a76ec67722",
            "1c4bc36f2aa24366b6719dc1a70de067",
            "5642134d5f0241cca104dcd04da7d25a",
            "4d9814c4438d4b4195ee6a059f9c45b2",
            "82bcebea34d7436ab3fb99d1a554a78e",
            "ac5aa7dc649e4c6fb7ad6f7832f8ef76",
            "dc55297e6c4e4318a7c60195c00fb30e",
            "49fc185f4d51481488a477f428df69a9",
            "84a7c43a8bd94eaeb3a8601d4da7220c",
            "e4c169a8e4a843dca19bf493a0b2d985",
            "a11cb9a973214c8eb1f956c12b99f30c",
            "4067ccb93c3b4250abbbdfa5788f6ccd",
            "a312d0482b6c45ab891c639282c8389f",
            "f6cf40bb95fd4b22aa5000345e6e6f4a",
            "7818ee32591b48d78599e55b8a074e86",
            "b87430d7728e40b0ba621ce5ca267872",
            "47d96f490cf44636a5e2652a18488e81",
            "89ebb63a838d4030919667e1bf613491",
            "45c5441bfc0b4c8296a584fe081f512c",
            "295a449fd400401fa48c2b5f9405882b",
            "3275399ad67d4cf58b6dfdc30a499dd2",
            "98f5f397008d4062acd261e402c04367",
            "6100b989b9724364928b4bda3b1f5b77",
            "59fb68b1ee2848e2adca434fb5004624",
            "b76bae69e9724c15882c19a181a4c7ea",
            "d88ef3029b7f454f8bf84f820f73137a",
            "69daeb28f3a24eb9b9e9afbfb3e45ded",
            "3b2c34d4e0e04c6a9290e48f6e3fc756",
            "06029d5f8af84704b572a6d521347c48",
            "5da4b3689d444b6c9cc983f30a09c31b",
            "f98171fcb5c2438393fdbd83a447e46f",
            "ef208469ad954f8f82e0219aaccc78a5",
            "db62e63364c44bff86f035f970c77fb1",
            "3641fc0eaa98449d9350ba039e8f9c06",
            "bad2687e59764e0abbe5e4a0511091cf",
            "8a623f5a409d450581e1a5c5cdb274bd",
            "9d03dc62174d4057907acd4220bc8cc6",
            "cdda7f09dc3e4e1895e9083ecc4fb6f3",
            "f4b31b55a48b4bb5b79aac74fe1e96c8",
            "a51d15c19df04ad7af82dbafce7c3532",
            "064538d81f7e401b81177ec2ff76b92e",
            "e9d7a46d31b4485c8d71b2ecf2959e16",
            "d095f24f45314e72b4bd0f1511ec663a",
            "734e3c58bd6044349ca05a79339cdcfa",
            "e1345c00a0b9438780e6f85076e52e7f",
            "4be9e5cab8614e89841d71015fb6bafb",
            "ea313a2a05fe46ebb61e87190840bdd2",
            "851533524240419c8bf7167e94f598f0",
            "222e71bfdd0a4970b53706f3b046c82f",
            "a57b41f86eb9410ebcee8b1448c8c53c",
            "778a601c45534efcb7d38e53fbb8a7a7",
            "7ab93ffee3a84d229f85725ea2eca643",
            "2e4d0a97b8034d5bbe89d655898286cf",
            "b52caf3f4c9a4ed4966dbb19507ba400",
            "26233f28fa7240b2bbb700498417572a",
            "b097bc3a16d54c06aaefff9ac2f83efb",
            "453205c222e748f081c69c8afdc7537c",
            "a55dce99d845414b84ed7aaf923479c4",
            "3d4b847eb4464486938f39d17dd650be",
            "90a796dfd8634ad68c8ee31dad72c7b3",
            "081ab9496f5b460e954fe3172c90ed1b",
            "9d333d225f4f49eeb3f639a154d6c8cf",
            "90fbd8fde0294f6f9f5bb755e7d488ed",
            "469a7d6e81a54b9d8232b73547b06000",
            "134a05ab937248a1b7712855f4d3fbb5",
            "11bdb1d85a8642e19cfa487ca86e0d80",
            "34f4c6660d8a48918d3cdf540b3a500c",
            "07f940da0f9d4ee6b4e0bae83c39a5d8",
            "be4b99b561c644ec8ae5f6d2cfc87eaf",
            "f94e6ffa9a8f421eb4fc4b7aa022be2f",
            "baa8644422f6426095af9a5e169722e1",
            "3ae0c21cf7ea46fd839a0300031ac907",
            "d9fd0c392edc49b48f3bcc73e8b35921",
            "7c97196d1b9e4b25be2d9afdefa77f9a",
            "06145366de3840c88d4974b79d6fed40",
            "e95fc51adab94d12822bea7383399827",
            "d8344b2c66584ec08a6728ab9cbf566c",
            "5feb271c04194bdfb0053dc09e904976",
            "01df4e8619c848969f1449d779c7f8d4",
            "61b34409785045ac8008b0f9bec4a0e3",
            "3351518826e94e1d996444d073894526",
            "4fbcc044191a4814aac11e0799fe1e4a",
            "e856453e6d6242a9b76e487b70bd5553",
            "9edb3595d71047bbb4180333ee1a4106",
            "f35f29d6b45140108eb742ef8af782dc",
            "6b9065e479f7430fb515d7195af000d4",
            "2d373fcf070a4aef8222d018c671fece",
            "df238acf4d6d4f509d9d334735ce137e",
            "424f137a9b884067bda47cb98830d934",
            "35b8194a057c4228aa8f949106159afd",
            "834786033b29480cb03087e1f5c69296",
            "c335d444ebc2430e8da376e11729924b",
            "14a2876723214618b013c861afc26ccc",
            "e52ca43327d145db86d36c6280deb307",
            "9dd7ccb34ee84f9c83fecbef0d4c19ae",
            "763774aaf44d491c936cc973cf5a4366",
            "8e6893a7544041aba85e0c98623d41e7",
            "a3f34253d9c6466ba70432c29b2f3a1f",
            "ea5b63b723014fe084a4c255750d71c9",
            "bfe5b54ef8e347818104f7a9700450e3",
            "f12fb5b3fa06400c9c399d60440635b2",
            "ff33fc1a6c094647bbc410f72b8fbcb3",
            "ad3751940e5e42a9a01f4a39b53dc269",
            "a06f1294734641aba7e0519eab6b863b",
            "01274ad323b34c1c9a4b00ef9b0cc495",
            "90622c7628e64a55964e4be0298b0795",
            "ceb1824b2d014d29a2e49b230cc21be5",
            "6e38d1765dea4eb4aaff3722285a9486",
            "d44760b9fcbd44f7ab1038d306efeb05",
            "f0ff582cb4fc4df39d4ce74a3d7ea379",
            "009e0ca3b3cd4e61afeb7dee12da1bf1",
            "1fe1c9b4d8934e69931f5e2a28fa133f",
            "6c25310b3cbc4daba553770cf89f127c",
            "f648746e350e49439fb050a053fbfbf1",
            "dc14dbd8278f4f45b5452e7d2eef9544",
            "f9768b74048941a6845f2613cf9c0e7e",
            "797a979e56864574931776ce4901dc32",
            "84c36f8de39d42a1b3b30ebc7a3a7b86",
            "6f90ab50c599494a98d78de22c4e2cdc",
            "12b80b096ccb4ec2b17875dea597da29",
            "e5298abcd6fe4dc0b36226521d8b1606",
            "a4a1d86a36224d02a842349364a6bed7",
            "d0b0eb959bf4444d871962a564c1d5b1",
            "b2b3614e8e3b41c7b52067667f56cfab",
            "9516096d47b544ffbcd6128ce5cb59e3",
            "6e03791605e04304be5921b060f20279",
            "9a27fdc8c4174f01a1347bb911b2dbea",
            "3677a454523344b6bdadce932f7433c8",
            "656dbdf81beb49749354860af40911da",
            "d9db5f95180742cfaf004c476d133d6f",
            "1dd28542fbab462fbde6d9fe0820ea6d",
            "8aea93de1b8c4a288a52b9282fc14173",
            "88f2c3957f584dd2912e3a745c934f4a",
            "9b2de961ce2a4e539000345119f74fe7",
            "26ba251219f745ccaace1b0347ded210",
            "d23edb8919d4486895d6bce8ffb7d101",
            "66a68d085f944e9e99fb85c08665ac04",
            "8e11c2f0f32f498ea4b02aed9c857ee3",
            "d1d98bf70de04b4eb369843583d482ee",
            "7fa9bcdc206a4a7a9c0140e3fb9b49fc",
            "3239614e7b794bc5abd1ef1b93d73080",
            "77a28cbce129450b8e0bf20c438d32ff",
            "ed348325a9a54122865e6b9c95799aee",
            "83f2672a4d084bc8b74601556e26c957",
            "cf955646d8d74b84be925db639f95b80",
            "5a4c8abf7b4c4473a3a7e64235913860",
            "2279b0f2b119443aa0adb5890e55ac52",
            "8a81fb1593044674be6951848468d697",
            "cabf1cdfcf384f4f9a4666cde9434ca1",
            "f5e2f6f8bfb14df2a762b03e02017785",
            "4e34e13554f04576a5d2ad4e3ea1cff4",
            "2b2e759a28944ff18574388d2f7169bb",
            "eb16e6151d404702a97132ec21c2e4bc",
            "32ac2ac7616440578b28f6e198c96937",
            "f2d0923922b24bbfbc3681c5cf25152a",
            "a92c318b73934eca84939e608c560bb8",
            "bed517d9a48d423b9f2834528ef3a2b7",
            "03eefff587f44ea49208b8b1c1b7dccd",
            "86ed4cd921174aaba6e1b5ffdbbb4188",
            "3418bc3041d44da5b9ed4932f13a068e",
            "891bc85069e445e589156bfb50c4e6ca",
            "c3d9e09945a44714a234ca8e394666be",
            "bb732c80d75d42fab4ac0e1f41563a78",
            "bbbf71f12bb243218623f2bc1063e3b2",
            "0b0c13225a0a4310a305f7dac78a9ace",
            "c715c6bb866f4d8e9647d1e7a746f6b8"
          ]
        },
        "id": "Uor9MtwvRwjm",
        "outputId": "ee41b61d-69be-42fa-f22e-bb88ff46bb62"
      },
      "outputs": [
        {
          "name": "stdout",
          "output_type": "stream",
          "text": [
            "\n",
            "🔄 Procesando bloque 1/25: 2021-03-31 → 2021-05-29\n"
          ]
        },
        {
          "data": {
            "application/vnd.jupyter.widget-view+json": {
              "model_id": "e9508682012849b0a7bfd4021bffeff8",
              "version_major": 2,
              "version_minor": 0
            },
            "text/plain": [
              "  0%|          | 0/60 [00:00<?, ?it/s]"
            ]
          },
          "metadata": {},
          "output_type": "display_data"
        },
        {
          "name": "stdout",
          "output_type": "stream",
          "text": [
            "⏸️ Pausa de 495 segundos antes del siguiente bloque...\n",
            "\n",
            "🔄 Procesando bloque 2/25: 2021-05-30 → 2021-07-28\n"
          ]
        },
        {
          "data": {
            "application/vnd.jupyter.widget-view+json": {
              "model_id": "42d2df8420cb4dbc9407694d8666cd0f",
              "version_major": 2,
              "version_minor": 0
            },
            "text/plain": [
              "  0%|          | 0/60 [00:00<?, ?it/s]"
            ]
          },
          "metadata": {},
          "output_type": "display_data"
        },
        {
          "name": "stdout",
          "output_type": "stream",
          "text": [
            "⏸️ Pausa de 517 segundos antes del siguiente bloque...\n",
            "\n",
            "🔄 Procesando bloque 3/25: 2021-07-29 → 2021-09-26\n"
          ]
        },
        {
          "data": {
            "application/vnd.jupyter.widget-view+json": {
              "model_id": "3a1b6a11a8824c868f74674d8763973a",
              "version_major": 2,
              "version_minor": 0
            },
            "text/plain": [
              "  0%|          | 0/60 [00:00<?, ?it/s]"
            ]
          },
          "metadata": {},
          "output_type": "display_data"
        },
        {
          "name": "stdout",
          "output_type": "stream",
          "text": [
            "⏸️ Pausa de 314 segundos antes del siguiente bloque...\n",
            "\n",
            "🔄 Procesando bloque 4/25: 2021-09-27 → 2021-11-25\n"
          ]
        },
        {
          "data": {
            "application/vnd.jupyter.widget-view+json": {
              "model_id": "8ff8b209b3d1425f8bb585027a210e0e",
              "version_major": 2,
              "version_minor": 0
            },
            "text/plain": [
              "  0%|          | 0/60 [00:00<?, ?it/s]"
            ]
          },
          "metadata": {},
          "output_type": "display_data"
        },
        {
          "name": "stdout",
          "output_type": "stream",
          "text": [
            "⏸️ Pausa de 525 segundos antes del siguiente bloque...\n",
            "\n",
            "🔄 Procesando bloque 5/25: 2021-11-26 → 2022-01-24\n"
          ]
        },
        {
          "data": {
            "application/vnd.jupyter.widget-view+json": {
              "model_id": "e1f1d04463404d8f9d8d480ff1c61d8e",
              "version_major": 2,
              "version_minor": 0
            },
            "text/plain": [
              "  0%|          | 0/60 [00:00<?, ?it/s]"
            ]
          },
          "metadata": {},
          "output_type": "display_data"
        },
        {
          "name": "stdout",
          "output_type": "stream",
          "text": [
            "⏸️ Pausa de 460 segundos antes del siguiente bloque...\n",
            "\n",
            "🔄 Procesando bloque 6/25: 2022-01-25 → 2022-03-25\n"
          ]
        },
        {
          "data": {
            "application/vnd.jupyter.widget-view+json": {
              "model_id": "5768265fd15c400490ceaec21a27c5ac",
              "version_major": 2,
              "version_minor": 0
            },
            "text/plain": [
              "  0%|          | 0/60 [00:00<?, ?it/s]"
            ]
          },
          "metadata": {},
          "output_type": "display_data"
        },
        {
          "name": "stdout",
          "output_type": "stream",
          "text": [
            "⏸️ Pausa de 489 segundos antes del siguiente bloque...\n",
            "\n",
            "🔄 Procesando bloque 7/25: 2022-03-26 → 2022-05-24\n"
          ]
        },
        {
          "data": {
            "application/vnd.jupyter.widget-view+json": {
              "model_id": "e3b4519e4c9f4b6bac4326e25601019a",
              "version_major": 2,
              "version_minor": 0
            },
            "text/plain": [
              "  0%|          | 0/60 [00:00<?, ?it/s]"
            ]
          },
          "metadata": {},
          "output_type": "display_data"
        },
        {
          "name": "stdout",
          "output_type": "stream",
          "text": [
            "⏸️ Pausa de 502 segundos antes del siguiente bloque...\n",
            "\n",
            "🔄 Procesando bloque 8/25: 2022-05-25 → 2022-07-23\n"
          ]
        },
        {
          "data": {
            "application/vnd.jupyter.widget-view+json": {
              "model_id": "7281ccf0e8bc4251a15f12217ab68a93",
              "version_major": 2,
              "version_minor": 0
            },
            "text/plain": [
              "  0%|          | 0/60 [00:00<?, ?it/s]"
            ]
          },
          "metadata": {},
          "output_type": "display_data"
        },
        {
          "name": "stdout",
          "output_type": "stream",
          "text": [
            "⏸️ Pausa de 440 segundos antes del siguiente bloque...\n",
            "\n",
            "🔄 Procesando bloque 9/25: 2022-07-24 → 2022-09-21\n"
          ]
        },
        {
          "data": {
            "application/vnd.jupyter.widget-view+json": {
              "model_id": "e4c169a8e4a843dca19bf493a0b2d985",
              "version_major": 2,
              "version_minor": 0
            },
            "text/plain": [
              "  0%|          | 0/60 [00:00<?, ?it/s]"
            ]
          },
          "metadata": {},
          "output_type": "display_data"
        },
        {
          "name": "stdout",
          "output_type": "stream",
          "text": [
            "⏸️ Pausa de 405 segundos antes del siguiente bloque...\n",
            "\n",
            "🔄 Procesando bloque 10/25: 2022-09-22 → 2022-11-20\n"
          ]
        },
        {
          "data": {
            "application/vnd.jupyter.widget-view+json": {
              "model_id": "3275399ad67d4cf58b6dfdc30a499dd2",
              "version_major": 2,
              "version_minor": 0
            },
            "text/plain": [
              "  0%|          | 0/60 [00:00<?, ?it/s]"
            ]
          },
          "metadata": {},
          "output_type": "display_data"
        },
        {
          "name": "stdout",
          "output_type": "stream",
          "text": [
            "⏸️ Pausa de 528 segundos antes del siguiente bloque...\n",
            "\n",
            "🔄 Procesando bloque 11/25: 2022-11-21 → 2023-01-19\n"
          ]
        },
        {
          "data": {
            "application/vnd.jupyter.widget-view+json": {
              "model_id": "ef208469ad954f8f82e0219aaccc78a5",
              "version_major": 2,
              "version_minor": 0
            },
            "text/plain": [
              "  0%|          | 0/60 [00:00<?, ?it/s]"
            ]
          },
          "metadata": {},
          "output_type": "display_data"
        },
        {
          "name": "stdout",
          "output_type": "stream",
          "text": [
            "⏸️ Pausa de 577 segundos antes del siguiente bloque...\n",
            "\n",
            "🔄 Procesando bloque 12/25: 2023-01-20 → 2023-03-20\n"
          ]
        },
        {
          "data": {
            "application/vnd.jupyter.widget-view+json": {
              "model_id": "d095f24f45314e72b4bd0f1511ec663a",
              "version_major": 2,
              "version_minor": 0
            },
            "text/plain": [
              "  0%|          | 0/60 [00:00<?, ?it/s]"
            ]
          },
          "metadata": {},
          "output_type": "display_data"
        },
        {
          "name": "stdout",
          "output_type": "stream",
          "text": [
            "⏸️ Pausa de 343 segundos antes del siguiente bloque...\n",
            "\n",
            "🔄 Procesando bloque 13/25: 2023-03-21 → 2023-05-19\n"
          ]
        },
        {
          "data": {
            "application/vnd.jupyter.widget-view+json": {
              "model_id": "b52caf3f4c9a4ed4966dbb19507ba400",
              "version_major": 2,
              "version_minor": 0
            },
            "text/plain": [
              "  0%|          | 0/60 [00:00<?, ?it/s]"
            ]
          },
          "metadata": {},
          "output_type": "display_data"
        },
        {
          "name": "stdout",
          "output_type": "stream",
          "text": [
            "⏸️ Pausa de 428 segundos antes del siguiente bloque...\n",
            "\n",
            "🔄 Procesando bloque 14/25: 2023-05-20 → 2023-07-18\n"
          ]
        },
        {
          "data": {
            "application/vnd.jupyter.widget-view+json": {
              "model_id": "134a05ab937248a1b7712855f4d3fbb5",
              "version_major": 2,
              "version_minor": 0
            },
            "text/plain": [
              "  0%|          | 0/60 [00:00<?, ?it/s]"
            ]
          },
          "metadata": {},
          "output_type": "display_data"
        },
        {
          "name": "stdout",
          "output_type": "stream",
          "text": [
            "⏸️ Pausa de 351 segundos antes del siguiente bloque...\n",
            "\n",
            "🔄 Procesando bloque 15/25: 2023-07-19 → 2023-09-16\n"
          ]
        },
        {
          "data": {
            "application/vnd.jupyter.widget-view+json": {
              "model_id": "e95fc51adab94d12822bea7383399827",
              "version_major": 2,
              "version_minor": 0
            },
            "text/plain": [
              "  0%|          | 0/60 [00:00<?, ?it/s]"
            ]
          },
          "metadata": {},
          "output_type": "display_data"
        },
        {
          "name": "stdout",
          "output_type": "stream",
          "text": [
            "⏸️ Pausa de 528 segundos antes del siguiente bloque...\n",
            "\n",
            "🔄 Procesando bloque 16/25: 2023-09-17 → 2023-11-15\n"
          ]
        },
        {
          "data": {
            "application/vnd.jupyter.widget-view+json": {
              "model_id": "2d373fcf070a4aef8222d018c671fece",
              "version_major": 2,
              "version_minor": 0
            },
            "text/plain": [
              "  0%|          | 0/60 [00:00<?, ?it/s]"
            ]
          },
          "metadata": {},
          "output_type": "display_data"
        },
        {
          "name": "stdout",
          "output_type": "stream",
          "text": [
            "⏸️ Pausa de 502 segundos antes del siguiente bloque...\n",
            "\n",
            "🔄 Procesando bloque 17/25: 2023-11-16 → 2024-01-14\n"
          ]
        },
        {
          "data": {
            "application/vnd.jupyter.widget-view+json": {
              "model_id": "a3f34253d9c6466ba70432c29b2f3a1f",
              "version_major": 2,
              "version_minor": 0
            },
            "text/plain": [
              "  0%|          | 0/60 [00:00<?, ?it/s]"
            ]
          },
          "metadata": {},
          "output_type": "display_data"
        },
        {
          "name": "stdout",
          "output_type": "stream",
          "text": [
            "⏸️ Pausa de 346 segundos antes del siguiente bloque...\n",
            "\n",
            "🔄 Procesando bloque 18/25: 2024-01-15 → 2024-03-14\n"
          ]
        },
        {
          "data": {
            "application/vnd.jupyter.widget-view+json": {
              "model_id": "d44760b9fcbd44f7ab1038d306efeb05",
              "version_major": 2,
              "version_minor": 0
            },
            "text/plain": [
              "  0%|          | 0/60 [00:00<?, ?it/s]"
            ]
          },
          "metadata": {},
          "output_type": "display_data"
        },
        {
          "name": "stdout",
          "output_type": "stream",
          "text": [
            "⏸️ Pausa de 370 segundos antes del siguiente bloque...\n",
            "\n",
            "🔄 Procesando bloque 19/25: 2024-03-15 → 2024-05-13\n"
          ]
        },
        {
          "data": {
            "application/vnd.jupyter.widget-view+json": {
              "model_id": "12b80b096ccb4ec2b17875dea597da29",
              "version_major": 2,
              "version_minor": 0
            },
            "text/plain": [
              "  0%|          | 0/60 [00:00<?, ?it/s]"
            ]
          },
          "metadata": {},
          "output_type": "display_data"
        },
        {
          "name": "stdout",
          "output_type": "stream",
          "text": [
            "⏸️ Pausa de 522 segundos antes del siguiente bloque...\n",
            "\n",
            "🔄 Procesando bloque 20/25: 2024-05-14 → 2024-07-12\n"
          ]
        },
        {
          "data": {
            "application/vnd.jupyter.widget-view+json": {
              "model_id": "1dd28542fbab462fbde6d9fe0820ea6d",
              "version_major": 2,
              "version_minor": 0
            },
            "text/plain": [
              "  0%|          | 0/60 [00:00<?, ?it/s]"
            ]
          },
          "metadata": {},
          "output_type": "display_data"
        },
        {
          "name": "stdout",
          "output_type": "stream",
          "text": [
            "⏸️ Pausa de 584 segundos antes del siguiente bloque...\n",
            "\n",
            "🔄 Procesando bloque 21/25: 2024-07-13 → 2024-09-10\n"
          ]
        },
        {
          "data": {
            "application/vnd.jupyter.widget-view+json": {
              "model_id": "77a28cbce129450b8e0bf20c438d32ff",
              "version_major": 2,
              "version_minor": 0
            },
            "text/plain": [
              "  0%|          | 0/60 [00:00<?, ?it/s]"
            ]
          },
          "metadata": {},
          "output_type": "display_data"
        },
        {
          "name": "stdout",
          "output_type": "stream",
          "text": [
            "⏸️ Pausa de 313 segundos antes del siguiente bloque...\n",
            "\n",
            "🔄 Procesando bloque 22/25: 2024-09-11 → 2024-11-09\n"
          ]
        },
        {
          "data": {
            "application/vnd.jupyter.widget-view+json": {
              "model_id": "eb16e6151d404702a97132ec21c2e4bc",
              "version_major": 2,
              "version_minor": 0
            },
            "text/plain": [
              "  0%|          | 0/60 [00:00<?, ?it/s]"
            ]
          },
          "metadata": {},
          "output_type": "display_data"
        },
        {
          "name": "stdout",
          "output_type": "stream",
          "text": [
            "⏸️ Pausa de 402 segundos antes del siguiente bloque...\n",
            "\n",
            "🔄 Procesando bloque 23/25: 2024-11-10 → 2025-01-08\n"
          ]
        },
        {
          "data": {
            "application/vnd.jupyter.widget-view+json": {
              "model_id": "bbbf71f12bb243218623f2bc1063e3b2",
              "version_major": 2,
              "version_minor": 0
            },
            "text/plain": [
              "  0%|          | 0/60 [00:00<?, ?it/s]"
            ]
          },
          "metadata": {},
          "output_type": "display_data"
        },
        {
          "name": "stdout",
          "output_type": "stream",
          "text": [
            "⏸️ Pausa de 476 segundos antes del siguiente bloque...\n",
            "\n",
            "🔄 Procesando bloque 24/25: 2025-01-09 → 2025-03-09\n"
          ]
        },
        {
          "data": {
            "application/vnd.jupyter.widget-view+json": {
              "model_id": "0b0c13225a0a4310a305f7dac78a9ace",
              "version_major": 2,
              "version_minor": 0
            },
            "text/plain": [
              "  0%|          | 0/60 [00:00<?, ?it/s]"
            ]
          },
          "metadata": {},
          "output_type": "display_data"
        },
        {
          "name": "stdout",
          "output_type": "stream",
          "text": [
            "⏸️ Pausa de 445 segundos antes del siguiente bloque...\n",
            "\n",
            "🔄 Procesando bloque 25/25: 2025-03-10 → 2025-04-19\n"
          ]
        },
        {
          "data": {
            "application/vnd.jupyter.widget-view+json": {
              "model_id": "c715c6bb866f4d8e9647d1e7a746f6b8",
              "version_major": 2,
              "version_minor": 0
            },
            "text/plain": [
              "  0%|          | 0/41 [00:00<?, ?it/s]"
            ]
          },
          "metadata": {},
          "output_type": "display_data"
        },
        {
          "ename": "ValueError",
          "evalue": "No objects to concatenate",
          "output_type": "error",
          "traceback": [
            "\u001b[0;31m---------------------------------------------------------------------------\u001b[0m",
            "\u001b[0;31mValueError\u001b[0m                                Traceback (most recent call last)",
            "\u001b[0;32m/tmp/ipython-input-523012569.py\u001b[0m in \u001b[0;36m<cell line: 0>\u001b[0;34m()\u001b[0m\n\u001b[1;32m    122\u001b[0m \u001b[0;34m\u001b[0m\u001b[0m\n\u001b[1;32m    123\u001b[0m \u001b[0;31m# --- Unir todos los CSVs ---\u001b[0m\u001b[0;34m\u001b[0m\u001b[0;34m\u001b[0m\u001b[0m\n\u001b[0;32m--> 124\u001b[0;31m \u001b[0mdf_final\u001b[0m \u001b[0;34m=\u001b[0m \u001b[0mpd\u001b[0m\u001b[0;34m.\u001b[0m\u001b[0mconcat\u001b[0m\u001b[0;34m(\u001b[0m\u001b[0;34m[\u001b[0m\u001b[0mpd\u001b[0m\u001b[0;34m.\u001b[0m\u001b[0mread_csv\u001b[0m\u001b[0;34m(\u001b[0m\u001b[0mf\u001b[0m\u001b[0;34m)\u001b[0m \u001b[0;32mfor\u001b[0m \u001b[0mf\u001b[0m \u001b[0;32min\u001b[0m \u001b[0mcsv_files\u001b[0m\u001b[0;34m]\u001b[0m\u001b[0;34m)\u001b[0m\u001b[0;34m\u001b[0m\u001b[0;34m\u001b[0m\u001b[0m\n\u001b[0m\u001b[1;32m    125\u001b[0m \u001b[0mdf_final\u001b[0m\u001b[0;34m[\u001b[0m\u001b[0;34m'fecha'\u001b[0m\u001b[0;34m]\u001b[0m \u001b[0;34m=\u001b[0m \u001b[0mpd\u001b[0m\u001b[0;34m.\u001b[0m\u001b[0mto_datetime\u001b[0m\u001b[0;34m(\u001b[0m\u001b[0mdf_final\u001b[0m\u001b[0;34m[\u001b[0m\u001b[0;34m'fecha'\u001b[0m\u001b[0;34m]\u001b[0m\u001b[0;34m)\u001b[0m\u001b[0;34m\u001b[0m\u001b[0;34m\u001b[0m\u001b[0m\n\u001b[1;32m    126\u001b[0m \u001b[0mdf_final\u001b[0m \u001b[0;34m=\u001b[0m \u001b[0mdf_final\u001b[0m\u001b[0;34m.\u001b[0m\u001b[0msort_values\u001b[0m\u001b[0;34m(\u001b[0m\u001b[0;34m'fecha'\u001b[0m\u001b[0;34m)\u001b[0m\u001b[0;34m.\u001b[0m\u001b[0mreset_index\u001b[0m\u001b[0;34m(\u001b[0m\u001b[0mdrop\u001b[0m\u001b[0;34m=\u001b[0m\u001b[0;32mTrue\u001b[0m\u001b[0;34m)\u001b[0m\u001b[0;34m\u001b[0m\u001b[0;34m\u001b[0m\u001b[0m\n",
            "\u001b[0;32m/usr/local/lib/python3.12/dist-packages/pandas/core/reshape/concat.py\u001b[0m in \u001b[0;36mconcat\u001b[0;34m(objs, axis, join, ignore_index, keys, levels, names, verify_integrity, sort, copy)\u001b[0m\n\u001b[1;32m    380\u001b[0m         \u001b[0mcopy\u001b[0m \u001b[0;34m=\u001b[0m \u001b[0;32mFalse\u001b[0m\u001b[0;34m\u001b[0m\u001b[0;34m\u001b[0m\u001b[0m\n\u001b[1;32m    381\u001b[0m \u001b[0;34m\u001b[0m\u001b[0m\n\u001b[0;32m--> 382\u001b[0;31m     op = _Concatenator(\n\u001b[0m\u001b[1;32m    383\u001b[0m         \u001b[0mobjs\u001b[0m\u001b[0;34m,\u001b[0m\u001b[0;34m\u001b[0m\u001b[0;34m\u001b[0m\u001b[0m\n\u001b[1;32m    384\u001b[0m         \u001b[0maxis\u001b[0m\u001b[0;34m=\u001b[0m\u001b[0maxis\u001b[0m\u001b[0;34m,\u001b[0m\u001b[0;34m\u001b[0m\u001b[0;34m\u001b[0m\u001b[0m\n",
            "\u001b[0;32m/usr/local/lib/python3.12/dist-packages/pandas/core/reshape/concat.py\u001b[0m in \u001b[0;36m__init__\u001b[0;34m(self, objs, axis, join, keys, levels, names, ignore_index, verify_integrity, copy, sort)\u001b[0m\n\u001b[1;32m    443\u001b[0m         \u001b[0mself\u001b[0m\u001b[0;34m.\u001b[0m\u001b[0mcopy\u001b[0m \u001b[0;34m=\u001b[0m \u001b[0mcopy\u001b[0m\u001b[0;34m\u001b[0m\u001b[0;34m\u001b[0m\u001b[0m\n\u001b[1;32m    444\u001b[0m \u001b[0;34m\u001b[0m\u001b[0m\n\u001b[0;32m--> 445\u001b[0;31m         \u001b[0mobjs\u001b[0m\u001b[0;34m,\u001b[0m \u001b[0mkeys\u001b[0m \u001b[0;34m=\u001b[0m \u001b[0mself\u001b[0m\u001b[0;34m.\u001b[0m\u001b[0m_clean_keys_and_objs\u001b[0m\u001b[0;34m(\u001b[0m\u001b[0mobjs\u001b[0m\u001b[0;34m,\u001b[0m \u001b[0mkeys\u001b[0m\u001b[0;34m)\u001b[0m\u001b[0;34m\u001b[0m\u001b[0;34m\u001b[0m\u001b[0m\n\u001b[0m\u001b[1;32m    446\u001b[0m \u001b[0;34m\u001b[0m\u001b[0m\n\u001b[1;32m    447\u001b[0m         \u001b[0;31m# figure out what our result ndim is going to be\u001b[0m\u001b[0;34m\u001b[0m\u001b[0;34m\u001b[0m\u001b[0m\n",
            "\u001b[0;32m/usr/local/lib/python3.12/dist-packages/pandas/core/reshape/concat.py\u001b[0m in \u001b[0;36m_clean_keys_and_objs\u001b[0;34m(self, objs, keys)\u001b[0m\n\u001b[1;32m    505\u001b[0m \u001b[0;34m\u001b[0m\u001b[0m\n\u001b[1;32m    506\u001b[0m         \u001b[0;32mif\u001b[0m \u001b[0mlen\u001b[0m\u001b[0;34m(\u001b[0m\u001b[0mobjs_list\u001b[0m\u001b[0;34m)\u001b[0m \u001b[0;34m==\u001b[0m \u001b[0;36m0\u001b[0m\u001b[0;34m:\u001b[0m\u001b[0;34m\u001b[0m\u001b[0;34m\u001b[0m\u001b[0m\n\u001b[0;32m--> 507\u001b[0;31m             \u001b[0;32mraise\u001b[0m \u001b[0mValueError\u001b[0m\u001b[0;34m(\u001b[0m\u001b[0;34m\"No objects to concatenate\"\u001b[0m\u001b[0;34m)\u001b[0m\u001b[0;34m\u001b[0m\u001b[0;34m\u001b[0m\u001b[0m\n\u001b[0m\u001b[1;32m    508\u001b[0m \u001b[0;34m\u001b[0m\u001b[0m\n\u001b[1;32m    509\u001b[0m         \u001b[0;32mif\u001b[0m \u001b[0mkeys\u001b[0m \u001b[0;32mis\u001b[0m \u001b[0;32mNone\u001b[0m\u001b[0;34m:\u001b[0m\u001b[0;34m\u001b[0m\u001b[0;34m\u001b[0m\u001b[0m\n",
            "\u001b[0;31mValueError\u001b[0m: No objects to concatenate"
          ]
        }
      ],
      "source": [
        "import requests\n",
        "from bs4 import BeautifulSoup\n",
        "import pandas as pd\n",
        "from datetime import datetime, timedelta\n",
        "from tqdm.notebook import tqdm\n",
        "import time, random\n",
        "import os\n",
        "\n",
        "# --- Función para extraer datos de un día ---\n",
        "def extraer_datos_dia(url, fecha_str):\n",
        "    user_agents = [\n",
        "    # Navegadores modernos en Windows\n",
        "    \"Mozilla/5.0 (Windows NT 10.0; Win64; x64) AppleWebKit/537.36 (KHTML, like Gecko) Chrome/120.0.0.0 Safari/537.36\",\n",
        "    \"Mozilla/5.0 (Windows NT 10.0; rv:109.0) Gecko/20100101 Firefox/120.0\",\n",
        "    \"Mozilla/5.0 (Windows NT 10.0; Win64; x64) AppleWebKit/537.36 (KHTML, like Gecko) Edge/120.0.0.0 Safari/537.36\",\n",
        "\n",
        "    # macOS\n",
        "    \"Mozilla/5.0 (Macintosh; Intel Mac OS X 13_4_1) AppleWebKit/605.1.15 (KHTML, like Gecko) Version/16.5 Safari/605.1.15\",\n",
        "    \"Mozilla/5.0 (Macintosh; Intel Mac OS X 12_6_9) AppleWebKit/537.36 (KHTML, like Gecko) Chrome/119.0.0.0 Safari/537.36\",\n",
        "\n",
        "    # Linux\n",
        "    \"Mozilla/5.0 (X11; Linux x86_64) AppleWebKit/537.36 (KHTML, like Gecko) Chrome/118.0.0.0 Safari/537.36\",\n",
        "    \"Mozilla/5.0 (X11; Linux x86_64) Gecko/20100101 Firefox/117.0\",\n",
        "\n",
        "    # Android\n",
        "    \"Mozilla/5.0 (Linux; Android 13; Pixel 6) AppleWebKit/537.36 (KHTML, like Gecko) Chrome/121.0.6167.144 Mobile Safari/537.36\",\n",
        "    \"Mozilla/5.0 (Linux; Android 11; SM-G991B) AppleWebKit/537.36 (KHTML, like Gecko) Chrome/120.0.0.0 Mobile Safari/537.36\",\n",
        "\n",
        "    # iOS\n",
        "    \"Mozilla/5.0 (iPhone; CPU iPhone OS 17_3 like Mac OS X) AppleWebKit/605.1.15 (KHTML, like Gecko) Version/17.3 Mobile/15E148 Safari/604.1\",\n",
        "    \"Mozilla/5.0 (iPad; CPU OS 16_6_1 like Mac OS X) AppleWebKit/605.1.15 (KHTML, like Gecko) Version/16.6 Mobile/15E148 Safari/604.1\"\n",
        "]\n",
        "\n",
        "    try:\n",
        "        headers = {'User-Agent': random.choice(user_agents)}\n",
        "        r = requests.get(url, headers=headers, timeout=10)\n",
        "        r.raise_for_status()\n",
        "        soup = BeautifulSoup(r.text, 'html.parser')\n",
        "        tabla = soup.select_one('div.div_table_scroll table')\n",
        "        if not tabla:\n",
        "            return None\n",
        "\n",
        "        # Identificar cabeceras\n",
        "        cabecera = tabla.find(\"tr\")\n",
        "        ths = [th.text.strip().upper() for th in cabecera.find_all(\"th\")]\n",
        "\n",
        "        # Buscar índices según encabezados\n",
        "        idx_temp = next((i for i, texto in enumerate(ths) if \"TEMP\" in texto), None)\n",
        "        idx_prec = next((i for i, texto in enumerate(ths) if \"PRECIPITACIÓN\" in texto or \"PREC\" in texto), None)\n",
        "\n",
        "        if idx_temp is None or idx_prec is None:\n",
        "            print(f\"⚠️ No se encontraron columnas adecuadas en {fecha_str}\")\n",
        "            return None\n",
        "\n",
        "        # Filas de datos\n",
        "        filas = tabla.find_all(\"tr\")[1:]\n",
        "        temps, precs = [], []\n",
        "\n",
        "        for fila in filas:\n",
        "            columnas = fila.find_all(\"td\")\n",
        "            if len(columnas) > max(idx_temp, idx_prec):\n",
        "                try:\n",
        "                    temp = float(columnas[idx_temp].text.replace(\",\", \".\"))\n",
        "                    prec = float(columnas[idx_prec].text.replace(\",\", \".\"))\n",
        "                    temps.append(temp)\n",
        "                    precs.append(prec)\n",
        "                except ValueError:\n",
        "                    continue\n",
        "\n",
        "        if temps:\n",
        "            return {\n",
        "                \"fecha\": fecha_str,\n",
        "                \"temp_media\": round(sum(temps) / len(temps), 2),\n",
        "                \"precipitacion\": round(sum(precs), 2)\n",
        "            }\n",
        "        else:\n",
        "            return None\n",
        "\n",
        "    except Exception as e:\n",
        "        print(f\"❌ Error en {fecha_str}: {e}\")\n",
        "        return None\n",
        "\n",
        "# --- Parámetros de scraping ---\n",
        "base_url = \"https://x-y.es/aemet/est-0244X-vilassar-de-dalt?fecha={}\"\n",
        "fecha_inicio = datetime(2021, 3, 31)\n",
        "fecha_fin = datetime(2025, 4, 19)\n",
        "bloque_dias = 60\n",
        "\n",
        "# --- Crear bloques de fechas ---\n",
        "rango_total = pd.date_range(start=fecha_inicio, end=fecha_fin)\n",
        "bloques = [rango_total[i:i + bloque_dias] for i in range(0, len(rango_total), bloque_dias)]\n",
        "\n",
        "# --- Proceso por bloques ---\n",
        "csv_files = []\n",
        "\n",
        "for i, bloque in enumerate(bloques):\n",
        "    print(f\"\\n🔄 Procesando bloque {i+1}/{len(bloques)}: {bloque[0].date()} → {bloque[-1].date()}\")\n",
        "    datos_bloque = []\n",
        "\n",
        "    for fecha in tqdm(bloque):\n",
        "        fecha_str = fecha.strftime(\"%Y-%m-%d\")\n",
        "        url = base_url.format(fecha_str)\n",
        "        resultado = extraer_datos_dia(url, fecha_str)\n",
        "        if resultado:\n",
        "            datos_bloque.append(resultado)\n",
        "\n",
        "        time.sleep(random.uniform(1.1, 2.5))\n",
        "\n",
        "\n",
        "    if datos_bloque:\n",
        "        df_bloque = pd.DataFrame(datos_bloque)\n",
        "        archivo_csv = f\"datos_bloque_{i}.csv\"\n",
        "        df_bloque.to_csv(archivo_csv, index=False)\n",
        "        csv_files.append(archivo_csv)\n",
        "        print(f\"✅ Guardado: {archivo_csv}\")\n",
        "\n",
        "    # Pausa larga entre bloques para evitar bloqueo\n",
        "    if i < len(bloques) - 1:\n",
        "        pausa = random.uniform(300, 600)\n",
        "        print(f\"⏸️ Pausa de {int(pausa)} segundos antes del siguiente bloque...\")\n",
        "        time.sleep(pausa)\n",
        "\n",
        "# --- Unir todos los CSVs ---\n",
        "df_final = pd.concat([pd.read_csv(f) for f in csv_files])\n",
        "df_final['fecha'] = pd.to_datetime(df_final['fecha'])\n",
        "df_final = df_final.sort_values('fecha').reset_index(drop=True)\n",
        "\n",
        "# --- Guardar CSV final ---\n",
        "df_final.to_csv(\"clima_diario_vilassar_2021_2025.csv\", index=False)\n",
        "print(\"\\n📦 Archivo final guardado como 'clima_diario_vilassar_2021_2025.csv'\")\n",
        "\n",
        "# Mostrar resumen\n",
        "df_final.head()\n"
      ]
    },
    {
      "cell_type": "markdown",
      "metadata": {
        "id": "Ogc6ol-j-vyb"
      },
      "source": [
        "A pesar de implementar medidas para evitar el bloqueo del servidor, no fue posible recuperar todos los datos de forma continua. Por ello, se optó por desarrollar un script que ejecuta la recolección únicamente para los primeros 60 días con datos faltantes en el dataset. Al finalizar cada iteración, se desconecta manualmente el entorno de ejecución, lo cual permite cambiar la dirección IP y así eludir temporalmente el bloqueo del servidor."
      ]
    },
    {
      "cell_type": "code",
      "execution_count": null,
      "metadata": {
        "colab": {
          "background_save": true
        },
        "id": "_RfFqgMN3QMB"
      },
      "outputs": [],
      "source": [
        "# ✅ 1. Importar librerías\n",
        "import pandas as pd\n",
        "import requests\n",
        "from bs4 import BeautifulSoup\n",
        "from datetime import datetime, timedelta\n",
        "import time\n",
        "\n",
        "# ✅ 2. Cargar CSV existente\n",
        "nombre_csv_existente = \"clima_vilassar_completo_actualizado.csv\"  # Cambia si tu archivo tiene otro nombre\n",
        "df_existente = pd.read_csv(nombre_csv_existente, parse_dates=[\"fecha\"])\n",
        "print(f\"📄 CSV original cargado con {len(df_existente)} registros\")\n",
        "\n",
        "# ✅ 3. Detectar fechas faltantes\n",
        "fecha_inicio = datetime(2021, 3, 31)\n",
        "fecha_fin = datetime(2025, 4, 19)\n",
        "fechas_completas = pd.date_range(start=fecha_inicio, end=fecha_fin)\n",
        "\n",
        "fechas_en_csv = set(df_existente['fecha'].dt.date)\n",
        "fechas_faltantes = [f for f in fechas_completas if f.date() not in fechas_en_csv]\n",
        "\n",
        "print(f\"🔍 Se detectaron {len(fechas_faltantes)} fechas faltantes\")\n",
        "\n",
        "# ✅ 4. Definir scraping\n",
        "base_url = \"https://x-y.es/aemet/est-0244X-vilassar-de-dalt?fecha={}\"\n",
        "\n",
        "def extraer_datos_dia(url, fecha_str):\n",
        "    try:\n",
        "        r = requests.get(url, headers={'User-Agent': 'Mozilla/5.0'}, timeout=10)\n",
        "        r.raise_for_status()\n",
        "        soup = BeautifulSoup(r.text, 'html.parser')\n",
        "        tabla = soup.select_one('div.div_table_scroll table')\n",
        "        if not tabla:\n",
        "            print(f\"⚠️ Sin tabla para: {fecha_str}\")\n",
        "            return None\n",
        "\n",
        "        cabecera = tabla.find(\"tr\")\n",
        "        ths = [th.text.strip().upper() for th in cabecera.find_all(\"th\")]\n",
        "\n",
        "        # Buscar índices según encabezados\n",
        "        idx_temp = next((i for i, texto in enumerate(ths) if \"TEMP\" in texto), None)\n",
        "        idx_prec = next((i for i, texto in enumerate(ths) if \"PRECIPITACIÓN\" in texto or \"PREC\" in texto), None)\n",
        "\n",
        "        if idx_temp is None or idx_prec is None:\n",
        "            print(f\"⚠️ No se encontraron columnas adecuadas en {fecha_str}\")\n",
        "            return None\n",
        "\n",
        "        # Filas de datos\n",
        "        filas = tabla.find_all(\"tr\")[1:]\n",
        "        temps, precs = [], []\n",
        "\n",
        "        for fila in filas:\n",
        "            columnas = fila.find_all(\"td\")\n",
        "            if len(columnas) > max(idx_temp, idx_prec):\n",
        "                try:\n",
        "                    temp = float(columnas[idx_temp].text.replace(\",\", \".\"))\n",
        "                    prec = float(columnas[idx_prec].text.replace(\",\", \".\"))\n",
        "                    temps.append(temp)\n",
        "                    precs.append(prec)\n",
        "                except ValueError:\n",
        "                    continue\n",
        "\n",
        "        if temps:\n",
        "            return {\n",
        "                \"fecha\": fecha_str,\n",
        "                \"temp_media\": round(sum(temps) / len(temps), 2),\n",
        "                \"precipitacion\": round(sum(precs), 2)\n",
        "            }\n",
        "        else:\n",
        "            return None\n",
        "\n",
        "    except Exception as e:\n",
        "        print(f\"❌ Error en {fecha_str}: {e}\")\n",
        "        return None\n",
        "\n",
        "# ✅ 5. Ejecutar scraping para fechas faltantes\n",
        "datos_recuperados = []\n",
        "\n",
        "\n",
        "for fecha in fechas_faltantes[:60]:\n",
        "\n",
        "    fecha_str = fecha.strftime(\"%Y-%m-%d\")\n",
        "    url = base_url.format(fecha_str)\n",
        "    resultado = extraer_datos_dia(url, fecha_str)\n",
        "    if resultado:\n",
        "        datos_recuperados.append(resultado)\n",
        "    time.sleep(0.5)  # evitar bloqueo\n",
        "\n",
        "# ✅ 6. Combinar con datos existentes\n",
        "df_nuevos = pd.DataFrame(datos_recuperados)\n",
        "df_nuevos['fecha'] = pd.to_datetime(df_nuevos['fecha'])\n",
        "\n",
        "df_final = pd.concat([df_existente, df_nuevos])\n",
        "df_final = df_final.drop_duplicates(subset=\"fecha\").sort_values(\"fecha\")\n",
        "df_final.to_csv(\"clima_vilassar_completo_actualizado.csv\", index=False)\n",
        "\n",
        "print(f\"\\n📦 CSV actualizado guardado con {len(df_final)} registros como 'clima_vilassar_completo_actualizado.csv'\")\n",
        "df_final.tail()"
      ]
    },
    {
      "cell_type": "markdown",
      "metadata": {
        "id": "b_a7r0h2AGcB"
      },
      "source": [
        "Se detectó la ausencia de datos para el día 03/05/2023, por lo que se decidió interpolar su valor utilizando los datos de los días inmediatamente anteriores y posteriores."
      ]
    },
    {
      "cell_type": "code",
      "execution_count": null,
      "metadata": {
        "colab": {
          "background_save": true
        },
        "id": "RCzL-dXXOIoo"
      },
      "outputs": [],
      "source": [
        "import pandas as pd\n",
        "\n",
        "# Cargar el archivo CSV (ajusta el nombre si es diferente)\n",
        "df = pd.read_csv(\"clima_vilassar_completo_actualizado.csv\", parse_dates=[\"fecha\"])\n",
        "import pandas as pd\n",
        "from datetime import datetime\n",
        "\n",
        "# Cargar el archivo CSV (ajusta el nombre si es diferente)\n",
        "df = pd.read_csv(\"clima_vilassar_completo_actualizado.csv\", parse_dates=[\"fecha\"])\n",
        "df = df.sort_values(\"fecha\")\n",
        "df.head()\n",
        "df[(df['fecha'] < datetime(2023, 5, 5)) & (df['fecha'] > datetime(2023, 5, 1))]"
      ]
    },
    {
      "cell_type": "code",
      "execution_count": null,
      "metadata": {
        "colab": {
          "background_save": true
        },
        "id": "sp7hX2amPScW"
      },
      "outputs": [],
      "source": [
        "temp_02=df.loc[df['fecha'] == datetime(2023, 5, 2)].iloc[0,1]\n",
        "temp_04=df.loc[df['fecha'] == datetime(2023, 5, 4)].iloc[0,1]\n",
        "temp_03=(temp_02+temp_04)/2\n",
        "temp_03\n",
        "\n",
        "if not (df['fecha'] == datetime(2023, 5, 3)).any():\n",
        "    nueva_fila = pd.DataFrame([{\n",
        "        'fecha': datetime(2023, 5, 3),\n",
        "        'temp_media': temp_03,\n",
        "        'precipitacion': 0\n",
        "    }])\n",
        "    df= pd.concat([df, nueva_fila], ignore_index=True)\n",
        "    df = df.sort_values('fecha').reset_index(drop=True)\n",
        "\n"
      ]
    },
    {
      "cell_type": "code",
      "execution_count": null,
      "metadata": {
        "colab": {
          "background_save": true
        },
        "id": "VI6APT0JR6og"
      },
      "outputs": [],
      "source": [
        "import matplotlib.pyplot as plt\n",
        "\n",
        "plt.figure(figsize=(15, 5))\n",
        "plt.plot(df[\"fecha\"], df[\"temp_media\"], color='tomato', linewidth=1)\n",
        "plt.title(\"Temperatura media diaria (Vilassar de Dalt)\", fontsize=14)\n",
        "plt.xlabel(\"Fecha\")\n",
        "plt.ylabel(\"Temperatura (°C)\")\n",
        "plt.grid(True)\n",
        "plt.tight_layout()\n",
        "plt.show()\n"
      ]
    },
    {
      "cell_type": "code",
      "execution_count": null,
      "metadata": {
        "colab": {
          "background_save": true
        },
        "id": "fM-WBZJuSPqG"
      },
      "outputs": [],
      "source": [
        "df[(df['fecha'] < datetime(2023, 7, 1)) & (df['fecha'] > datetime(2023, 5, 30))]"
      ]
    },
    {
      "cell_type": "markdown",
      "metadata": {
        "id": "Rd941v3oAzcq"
      },
      "source": [
        "Se observa que entre los días 01/06/2023 y 22/06/2023 los datos registrados son erróneos, ya que la página web no muestra valores para esas fechas. Por ello, se optó por obtener los datos correspondientes de la estación meteorológica más cercana.\n",
        "\n"
      ]
    },
    {
      "cell_type": "code",
      "execution_count": null,
      "metadata": {
        "colab": {
          "background_save": true
        },
        "id": "1oePexBGUxnq"
      },
      "outputs": [],
      "source": [
        "fecha_inicio = datetime(2023, 6, 1)\n",
        "fecha_fin = datetime(2023, 6, 22)\n",
        "rango_total = pd.date_range(start=fecha_inicio, end=fecha_fin)\n",
        "\n",
        "base_url = 'https://x-y.es/aemet/est-0201D-barcelona-cmt?fecha={}'\n",
        "datos_barcelona = []\n",
        "\n",
        "for fecha in rango_total:\n",
        "    fecha_str = fecha.strftime(\"%Y-%m-%d\")\n",
        "    url = base_url.format(fecha_str)  # aquí se construye correctamente\n",
        "    resultado = extraer_datos_dia(url, fecha_str)  # y ahora sí se usa la URL con la fecha\n",
        "    if resultado:\n",
        "        datos_barcelona.append(resultado)\n",
        "    time.sleep(0.5)\n",
        "\n",
        "\n",
        "# ✅ 6. Combinar con datos existentes\n",
        "df_barcelona = pd.DataFrame(datos_recuperados)\n",
        "df_barcelona['fecha'] = pd.to_datetime(df_nuevos['fecha'])\n",
        "df_barcelona\n"
      ]
    },
    {
      "cell_type": "code",
      "execution_count": null,
      "metadata": {
        "colab": {
          "background_save": true
        },
        "id": "BRZtaPD-ZRv3"
      },
      "outputs": [],
      "source": [
        "# 2. Eliminar del original las fechas que estén en el nuevo\n",
        "df_combinado = df[~df['fecha'].isin(df_barcelona['fecha'])]\n",
        "\n",
        "# 3. Unir los dos dataframes (el original sin duplicados y los nuevos datos)\n",
        "df_combinado = pd.concat([df_combinado, df_barcelona])\n",
        "\n",
        "# 4. Ordenar por fecha (opcional pero recomendable)\n",
        "df_combinado = df_combinado.sort_values('fecha').reset_index(drop=True)\n",
        "df_combinado.to_csv(\"clima_completo.csv\", index=False)\n",
        "\n",
        "# Descargar\n",
        "from google.colab import files\n",
        "files.download(\"clima_completo.csv\")\n",
        "\n"
      ]
    },
    {
      "cell_type": "code",
      "execution_count": null,
      "metadata": {
        "colab": {
          "background_save": true
        },
        "id": "z5iIaTDmbMWS"
      },
      "outputs": [],
      "source": [
        "import matplotlib.pyplot as plt\n",
        "df = pd.read_csv(\"clima_completo.csv\", parse_dates=[\"fecha\"])\n",
        "plt.figure(figsize=(15, 5))\n",
        "plt.plot(df_combinado[\"fecha\"], df_combinado[\"temp_media\"], color='tomato', linewidth=1)\n",
        "plt.title(\"Temperatura media diaria (Vilassar de Dalt)\", fontsize=14)\n",
        "plt.xlabel(\"Fecha\")\n",
        "plt.ylabel(\"Temperatura (°C)\")\n",
        "plt.grid(True)\n",
        "plt.tight_layout()\n",
        "plt.show()\n"
      ]
    },
    {
      "cell_type": "code",
      "execution_count": null,
      "metadata": {
        "colab": {
          "background_save": true
        },
        "id": "cT2IhCkEb81c"
      },
      "outputs": [],
      "source": [
        "plt.figure(figsize=(15, 5))\n",
        "plt.bar(df[\"fecha\"], df[\"precipitacion\"], color='royalblue', width=1)\n",
        "plt.title(\"Precipitación diaria (Vilassar de Dalt)\", fontsize=14)\n",
        "plt.xlabel(\"Fecha\")\n",
        "plt.ylabel(\"Precipitación (mm)\")\n",
        "plt.grid(True)\n",
        "plt.tight_layout()\n",
        "plt.show()"
      ]
    }
  ],
  "metadata": {
    "colab": {
      "provenance": []
    },
    "kernelspec": {
      "display_name": "Python 3",
      "name": "python3"
    },
    "language_info": {
      "name": "python"
    }
  },
  "nbformat": 4,
  "nbformat_minor": 0
}